{
  "cells": [
    {
      "cell_type": "markdown",
      "metadata": {
        "id": "4OwkZFG1uHuR"
      },
      "source": [
        "check runtime type\n"
      ]
    },
    {
      "cell_type": "code",
      "execution_count": null,
      "metadata": {
        "id": "OBbvLQs8qX8P"
      },
      "outputs": [],
      "source": [
        "!nvidia-smi"
      ]
    },
    {
      "cell_type": "code",
      "execution_count": null,
      "metadata": {
        "id": "W83k3KM3ufBs"
      },
      "outputs": [],
      "source": [
        "!pip install ultralytics"
      ]
    },
    {
      "cell_type": "code",
      "execution_count": 4,
      "metadata": {
        "id": "uHetN3L8uZvp"
      },
      "outputs": [],
      "source": [
        "from ultralytics import YOLO"
      ]
    },
    {
      "cell_type": "code",
      "execution_count": null,
      "metadata": {
        "id": "B4uNaOYgu1j1"
      },
      "outputs": [],
      "source": [
        "!yolo task=detect mode=predict model=yolov8l.pt conf=0.25 source=''"
      ]
    },
    {
      "cell_type": "code",
      "execution_count": null,
      "metadata": {
        "id": "9-HTSgD9wsbD"
      },
      "outputs": [],
      "source": []
    },
    {
      "cell_type": "markdown",
      "metadata": {
        "id": "Y2XYA-wjwvC1"
      },
      "source": [
        "RSA-DATA TRAINING\n"
      ]
    },
    {
      "cell_type": "code",
      "execution_count": null,
      "metadata": {
        "id": "s6xw_aYew_Wf"
      },
      "outputs": [],
      "source": [
        "!yolo task=detect mode=train model=yolov8l.pt data=/content/drive/MyDrive/RSA-YOLOv8/data.yaml epochs=50 imgsz=640"
      ]
    }
  ],
  "metadata": {
    "accelerator": "GPU",
    "colab": {
      "gpuType": "T4",
      "provenance": []
    },
    "kernelspec": {
      "display_name": "Python 3",
      "name": "python3"
    },
    "language_info": {
      "name": "python"
    }
  },
  "nbformat": 4,
  "nbformat_minor": 0
}
